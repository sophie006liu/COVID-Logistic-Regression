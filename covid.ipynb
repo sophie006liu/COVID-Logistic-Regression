{
 "cells": [
  {
   "cell_type": "code",
   "execution_count": 39,
   "metadata": {},
   "outputs": [],
   "source": [
    "import matplotlib.pyplot as plt\n",
    "import numpy as np\n",
    "from sklearn.datasets import load_digits\n",
    "from sklearn.linear_model import LogisticRegression\n",
    "from sklearn.metrics import classification_report, confusion_matrix\n",
    "from sklearn.model_selection import train_test_split\n",
    "from sklearn.preprocessing import StandardScaler, KBinsDiscretizer\n",
    "import pandas as pd\n",
    "\n",
    "# Loading the data\n",
    "raw_data = pd.read_csv('owidcovid.csv')\n",
    "\n",
    "#filtering the data\n",
    "raw_data = raw_data.dropna() \n",
    "raw_data = raw_data.loc[(raw_data.date == \"2020-12-20\")]\n",
    "               \n",
    "X = raw_data.drop(columns = [raw_data.columns[0],raw_data.columns[2],raw_data.columns[3], 'total_cases_per_million'], axis=1) \n",
    "y = raw_data['total_cases_per_million']\n",
    "\n",
    "# Making categorical variables into numeric representation\n",
    "X = pd.get_dummies(X)\n",
    "\n",
    "y = y.astype(int)"
   ]
  },
  {
   "cell_type": "code",
   "execution_count": null,
   "metadata": {},
   "outputs": [],
   "source": [
    "x_train, x_test, y_train, y_test =\\\n",
    "    train_test_split(X, y,train_size = 0.8, test_size=0.2, random_state=15)\n",
    "\n",
    "scaler = StandardScaler()\n",
    "x_train = scaler.fit_transform(x_train)\n",
    "\n",
    "model = LogisticRegression(solver='liblinear', C=0.08, multi_class='ovr',\n",
    "                           random_state=0)\n",
    "model.fit(x_train, y_train)\n",
    "\n",
    "LogisticRegression(C=0.08, class_weight=None, dual=False, fit_intercept=True,\n",
    "                   intercept_scaling=1, l1_ratio=None, max_iter=100,\n",
    "                   multi_class='ovr', n_jobs=None, penalty='l2', random_state=0,\n",
    "                   solver='liblinear', tol=0.0001, verbose=0, warm_start=False)\n",
    "\n",
    "x_test = scaler.transform(x_test)\n",
    "\n",
    "y_pred = model.predict(x_test)\n",
    "print(\"labeled:\")\n",
    "# print(x_test)\n",
    "print(y_test)\n",
    "\n",
    "print(\"predicted:\")\n",
    "print(y_pred)\n",
    "\n",
    "\n",
    "print(classification_report(y_test, y_pred))\n",
    "\n",
    "print(model.score(x_test, y_test))\n",
    "\n",
    "# output = model.predict(dummyX)\n",
    "# print(output)\n"
   ]
  },
  {
   "cell_type": "code",
   "execution_count": null,
   "metadata": {},
   "outputs": [],
   "source": []
  }
 ],
 "metadata": {
  "kernelspec": {
   "display_name": "Python 3",
   "language": "python",
   "name": "python3"
  },
  "language_info": {
   "codemirror_mode": {
    "name": "ipython",
    "version": 3
   },
   "file_extension": ".py",
   "mimetype": "text/x-python",
   "name": "python",
   "nbconvert_exporter": "python",
   "pygments_lexer": "ipython3",
   "version": "3.8.3"
  }
 },
 "nbformat": 4,
 "nbformat_minor": 4
}
